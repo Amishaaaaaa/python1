{
 "cells": [
  {
   "cell_type": "code",
   "execution_count": 1,
   "id": "b8670ef7-6c19-4ece-b0c2-0cdb34ce3902",
   "metadata": {},
   "outputs": [],
   "source": [
    "'''Q1. Create one variable containing following type of data:\n",
    "(i) string\n",
    "(ii) list\n",
    "(iii) float\n",
    "(iv) tuple'''\n",
    "a='Amisha'\n",
    "b=[2,6,8,4]\n",
    "c=3.55\n",
    "d=(\"hi\",\"this\",\"is\",\"amisha\")"
   ]
  },
  {
   "cell_type": "code",
   "execution_count": 4,
   "id": "940b5ec0-7f8f-41ed-8019-47f084013ea0",
   "metadata": {},
   "outputs": [
    {
     "name": "stdout",
     "output_type": "stream",
     "text": [
      "<class 'str'>\n",
      "<class 'str'>\n",
      "<class 'list'>\n",
      "<class 'float'>\n"
     ]
    }
   ],
   "source": [
    "'''Q2. Given are some following variables containing data:\n",
    "(i) var1 = ‘ ‘\n",
    "(ii) var2 = ‘[ DS , ML , Python]’\n",
    "(iii) var3 = [ ‘DS’ , ’ML’ , ‘Python’ ]\n",
    "(iv) var4 = 1.\n",
    "What will be the data type of the above given variable.\n",
    "'''\n",
    "var1 = ''\n",
    "var2 = '[ DS , ML , Python]'\n",
    "var3 = [ 'DS' , 'ML' , 'Python' ]\n",
    "var4 = 1.\n",
    "print(type(var1))\n",
    "print(type(var2))\n",
    "print(type(var3))\n",
    "print(type(var4))"
   ]
  },
  {
   "cell_type": "code",
   "execution_count": 5,
   "id": "476a8552-509d-4c60-8f69-24219217824a",
   "metadata": {},
   "outputs": [
    {
     "name": "stdout",
     "output_type": "stream",
     "text": [
      "2.0\n",
      "0\n",
      "2\n",
      "216\n"
     ]
    }
   ],
   "source": [
    "'''Q3. Explain the use of the following operators using an example:\n",
    "(i) /\n",
    "(ii) %\n",
    "(iii) //\n",
    "(iv) **\n",
    "'''\n",
    "'''(i) / - Division Operator:\n",
    "The division operator / is used to perform division between two numbers. It returns the quotient as a floating-point number,\n",
    "even if the operands are integers.'''\n",
    "a=6\n",
    "b=3\n",
    "div=a/b\n",
    "print(div)\n",
    "\n",
    "'''(ii) % - Modulo Operator:\n",
    "The modulo operator % is used to calculate the remainder when one number is divided by another.\n",
    "'''\n",
    "a=6\n",
    "b=3\n",
    "mod=a%b\n",
    "print(mod)\n",
    "'''\n",
    "(iii) // - Floor Division Operator:\n",
    "The floor division operator // performs division between two numbers and returns the quotient as an integer, discarding any fractional part.\n",
    "'''\n",
    "floor=6//3\n",
    "print(floor)\n",
    "\n",
    "'''iv) ** - Exponentiation Operator:\n",
    "The exponentiation operator ** is used to calculate the power of a number. It raises the left operand to the power of the right operand.\n",
    "'''\n",
    "\n",
    "expo=6**3\n",
    "print(expo)"
   ]
  },
  {
   "cell_type": "code",
   "execution_count": 7,
   "id": "235ffc00-b40d-41c6-a8a6-9d999cc539db",
   "metadata": {},
   "outputs": [
    {
     "name": "stdout",
     "output_type": "stream",
     "text": [
      "hi <class 'str'>\n",
      "4 <class 'int'>\n",
      "5.7 <class 'float'>\n",
      "hello <class 'str'>\n",
      "kya <class 'str'>\n",
      "0 <class 'int'>\n",
      "amisha <class 'str'>\n",
      "3 <class 'int'>\n",
      "True <class 'bool'>\n",
      "False <class 'bool'>\n"
     ]
    }
   ],
   "source": [
    "#Q4. Create a list of length 10 of your choice containing multiple types of data. Using for loop print the element and its data type.\n",
    "\n",
    "l=['hi',4,5.7,'hello','kya',0,'amisha',3,True,False]\n",
    "for i in range(0,len(l)):\n",
    "    print(l[i],type(l[i]))"
   ]
  },
  {
   "cell_type": "code",
   "execution_count": 12,
   "id": "22a3983d-acf9-4c81-8583-2a7a365df301",
   "metadata": {},
   "outputs": [
    {
     "name": "stdout",
     "output_type": "stream",
     "text": [
      "3\n"
     ]
    }
   ],
   "source": [
    "#Q5. Using a while loop, verify if the number A is purely divisible by number B and if so then how many times it can be divisible.\n",
    "A=10\n",
    "B=2\n",
    "count=0\n",
    "if A%B==0:\n",
    "    while(A//B!=0):\n",
    "        A=A//B\n",
    "        count=count+1\n",
    "print(count)\n",
    "    "
   ]
  },
  {
   "cell_type": "code",
   "execution_count": 15,
   "id": "830deb36-7bfa-4e5d-9536-87083047eb6c",
   "metadata": {},
   "outputs": [
    {
     "name": "stdout",
     "output_type": "stream",
     "text": [
      "1 Not divisible by 3\n",
      "2 Not divisible by 3\n",
      "3 Divisible by 3\n",
      "4 Not divisible by 3\n",
      "5 Not divisible by 3\n",
      "6 Divisible by 3\n",
      "7 Not divisible by 3\n",
      "8 Not divisible by 3\n",
      "9 Divisible by 3\n",
      "10 Not divisible by 3\n",
      "11 Not divisible by 3\n",
      "12 Divisible by 3\n",
      "13 Not divisible by 3\n",
      "14 Not divisible by 3\n",
      "15 Divisible by 3\n",
      "16 Not divisible by 3\n",
      "17 Not divisible by 3\n",
      "18 Divisible by 3\n",
      "19 Not divisible by 3\n",
      "20 Not divisible by 3\n",
      "21 Divisible by 3\n",
      "22 Not divisible by 3\n",
      "23 Not divisible by 3\n",
      "24 Divisible by 3\n",
      "25 Not divisible by 3\n"
     ]
    }
   ],
   "source": [
    "#Q6. Create a list containing 25 int type data. Using for loop and if-else condition print if the element is divisible by 3 or not.\n",
    "\n",
    "l=[1,2,3,4,5,6,7,8,9,10,11,12,13,14,15,16,17,18,19,20,21,22,23,24,25]\n",
    "\n",
    "for i in range(0,len(l)):\n",
    "    if l[i]%3==0:\n",
    "        print(l[i],\"Divisible by 3\")\n",
    "    else:\n",
    "        print(l[i],\"Not divisible by 3\")"
   ]
  },
  {
   "cell_type": "code",
   "execution_count": 16,
   "id": "ad42f402-2b29-4d23-a0fd-afac671f5232",
   "metadata": {},
   "outputs": [
    {
     "name": "stdout",
     "output_type": "stream",
     "text": [
      "5\n",
      "6\n",
      "[1, 2, 3]\n",
      "[1, 2, 3, 4]\n"
     ]
    }
   ],
   "source": [
    "#Q7. What do you understand about mutable and immutable data types? Give examples for both showing this property.\n",
    "'''\n",
    "Immutable data types are those whose values cannot be modified once they are assigned. If you need to change the value of an immutable object,\n",
    "you must create a new object with the desired value. Examples of immutable data types in Python include:\n",
    "\n",
    "int (integer)\n",
    "float\n",
    "bool (boolean)\n",
    "str (string)\n",
    "tuple\n",
    "'''\n",
    "x = 5\n",
    "print(x)  # Output: 5\n",
    "\n",
    "# Trying to modify the value of x\n",
    "x = x + 1\n",
    "print(x)  # Output: 6\n",
    "\n",
    "'''Mutable data types, on the other hand, allow modifications to their values even after they are created. This means you can change the internal state of an object without creating a new object. Examples of mutable data types in Python include:\n",
    "\n",
    "list\n",
    "dict (dictionary)\n",
    "set\n",
    "'''\n",
    "my_list = [1, 2, 3]\n",
    "print(my_list)  # Output: [1, 2, 3]\n",
    "\n",
    "# Modifying the list\n",
    "my_list.append(4)\n",
    "print(my_list)  # Output: [1, 2, 3, 4]\n"
   ]
  },
  {
   "cell_type": "code",
   "execution_count": null,
   "id": "a613d47c-bf35-41e6-8639-775e32a1ba9f",
   "metadata": {},
   "outputs": [],
   "source": []
  }
 ],
 "metadata": {
  "kernelspec": {
   "display_name": "Python 3 (ipykernel)",
   "language": "python",
   "name": "python3"
  },
  "language_info": {
   "codemirror_mode": {
    "name": "ipython",
    "version": 3
   },
   "file_extension": ".py",
   "mimetype": "text/x-python",
   "name": "python",
   "nbconvert_exporter": "python",
   "pygments_lexer": "ipython3",
   "version": "3.10.8"
  }
 },
 "nbformat": 4,
 "nbformat_minor": 5
}
